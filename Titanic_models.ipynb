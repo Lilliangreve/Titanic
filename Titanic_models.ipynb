{
 "cells": [
  {
   "cell_type": "code",
   "execution_count": 84,
   "metadata": {},
   "outputs": [],
   "source": [
    "import pandas as pd\n",
    "import numpy as np\n",
    "from sklearn.model_selection import train_test_split, GridSearchCV\n",
    "from sklearn.linear_model import LogisticRegression\n",
    "from sklearn import svm, datasets\n",
    "from sklearn.tree import DecisionTreeClassifier\n",
    "from sklearn.model_selection import cross_val_score\n",
    "import matplotlib.pyplot as plt"
   ]
  },
  {
   "cell_type": "code",
   "execution_count": 79,
   "metadata": {},
   "outputs": [],
   "source": [
    "# import cleaned datasets: titanic_train, titanic_predict\n",
    "titanic_train = pd.read_csv(\"C:\\\\Users\\\\Lillian\\\\Documents\\\\bayesian_basil_material-master\\\\titanic_train_clean.csv\")\n",
    "titanic_predict = pd.read_csv(\"C:\\\\Users\\\\Lillian\\\\Documents\\\\bayesian_basil_material-master\\\\titanic_predict_clean.csv\")"
   ]
  },
  {
   "cell_type": "code",
   "execution_count": 3,
   "metadata": {},
   "outputs": [
    {
     "data": {
      "text/html": [
       "<div>\n",
       "<style scoped>\n",
       "    .dataframe tbody tr th:only-of-type {\n",
       "        vertical-align: middle;\n",
       "    }\n",
       "\n",
       "    .dataframe tbody tr th {\n",
       "        vertical-align: top;\n",
       "    }\n",
       "\n",
       "    .dataframe thead th {\n",
       "        text-align: right;\n",
       "    }\n",
       "</style>\n",
       "<table border=\"1\" class=\"dataframe\">\n",
       "  <thead>\n",
       "    <tr style=\"text-align: right;\">\n",
       "      <th></th>\n",
       "      <th>Survived</th>\n",
       "      <th>Pclass</th>\n",
       "      <th>Age</th>\n",
       "      <th>SibSp</th>\n",
       "      <th>Parch</th>\n",
       "      <th>Fare</th>\n",
       "      <th>female</th>\n",
       "      <th>male</th>\n",
       "      <th>Embarked_C</th>\n",
       "      <th>Embarked_Q</th>\n",
       "      <th>Embarked_S</th>\n",
       "    </tr>\n",
       "  </thead>\n",
       "  <tbody>\n",
       "    <tr>\n",
       "      <th>0</th>\n",
       "      <td>0</td>\n",
       "      <td>3</td>\n",
       "      <td>22</td>\n",
       "      <td>1</td>\n",
       "      <td>0</td>\n",
       "      <td>7.2500</td>\n",
       "      <td>0</td>\n",
       "      <td>1</td>\n",
       "      <td>0</td>\n",
       "      <td>0</td>\n",
       "      <td>1</td>\n",
       "    </tr>\n",
       "    <tr>\n",
       "      <th>1</th>\n",
       "      <td>1</td>\n",
       "      <td>1</td>\n",
       "      <td>38</td>\n",
       "      <td>1</td>\n",
       "      <td>0</td>\n",
       "      <td>71.2833</td>\n",
       "      <td>1</td>\n",
       "      <td>0</td>\n",
       "      <td>1</td>\n",
       "      <td>0</td>\n",
       "      <td>0</td>\n",
       "    </tr>\n",
       "  </tbody>\n",
       "</table>\n",
       "</div>"
      ],
      "text/plain": [
       "   Survived  Pclass  Age  SibSp  Parch     Fare  female  male  Embarked_C  \\\n",
       "0         0       3   22      1      0   7.2500       0     1           0   \n",
       "1         1       1   38      1      0  71.2833       1     0           1   \n",
       "\n",
       "   Embarked_Q  Embarked_S  \n",
       "0           0           1  \n",
       "1           0           0  "
      ]
     },
     "execution_count": 3,
     "metadata": {},
     "output_type": "execute_result"
    }
   ],
   "source": [
    "# create dummies for categorical train data\n",
    "Sex_dummy = pd.get_dummies(titanic_train[\"Sex\"])\n",
    "Embarked_dummy = pd.get_dummies(titanic_train[\"Embarked\"], prefix=\"Embarked\")\n",
    "titanic_train_linear = titanic_train.join([Sex_dummy, Embarked_dummy])\n",
    "titanic_train_linear = titanic_train_linear[['Survived', 'Pclass', 'Age', 'SibSp', 'Parch', 'Fare', 'female', 'male', 'Embarked_C', 'Embarked_Q', 'Embarked_S']]\n",
    "titanic_train_linear.head(2)"
   ]
  },
  {
   "cell_type": "code",
   "execution_count": 4,
   "metadata": {},
   "outputs": [
    {
     "data": {
      "text/html": [
       "<div>\n",
       "<style scoped>\n",
       "    .dataframe tbody tr th:only-of-type {\n",
       "        vertical-align: middle;\n",
       "    }\n",
       "\n",
       "    .dataframe tbody tr th {\n",
       "        vertical-align: top;\n",
       "    }\n",
       "\n",
       "    .dataframe thead th {\n",
       "        text-align: right;\n",
       "    }\n",
       "</style>\n",
       "<table border=\"1\" class=\"dataframe\">\n",
       "  <thead>\n",
       "    <tr style=\"text-align: right;\">\n",
       "      <th></th>\n",
       "      <th>Pclass</th>\n",
       "      <th>Age</th>\n",
       "      <th>SibSp</th>\n",
       "      <th>Parch</th>\n",
       "      <th>Fare</th>\n",
       "      <th>female</th>\n",
       "      <th>male</th>\n",
       "      <th>Embarked_C</th>\n",
       "      <th>Embarked_Q</th>\n",
       "      <th>Embarked_S</th>\n",
       "    </tr>\n",
       "  </thead>\n",
       "  <tbody>\n",
       "    <tr>\n",
       "      <th>0</th>\n",
       "      <td>3</td>\n",
       "      <td>34</td>\n",
       "      <td>0</td>\n",
       "      <td>0</td>\n",
       "      <td>7.8292</td>\n",
       "      <td>0</td>\n",
       "      <td>1</td>\n",
       "      <td>0</td>\n",
       "      <td>1</td>\n",
       "      <td>0</td>\n",
       "    </tr>\n",
       "    <tr>\n",
       "      <th>1</th>\n",
       "      <td>3</td>\n",
       "      <td>47</td>\n",
       "      <td>1</td>\n",
       "      <td>0</td>\n",
       "      <td>7.0000</td>\n",
       "      <td>1</td>\n",
       "      <td>0</td>\n",
       "      <td>0</td>\n",
       "      <td>0</td>\n",
       "      <td>1</td>\n",
       "    </tr>\n",
       "  </tbody>\n",
       "</table>\n",
       "</div>"
      ],
      "text/plain": [
       "   Pclass  Age  SibSp  Parch    Fare  female  male  Embarked_C  Embarked_Q  \\\n",
       "0       3   34      0      0  7.8292       0     1           0           1   \n",
       "1       3   47      1      0  7.0000       1     0           0           0   \n",
       "\n",
       "   Embarked_S  \n",
       "0           0  \n",
       "1           1  "
      ]
     },
     "execution_count": 4,
     "metadata": {},
     "output_type": "execute_result"
    }
   ],
   "source": [
    "# create dummies for categorical predict data (do for Pclass?)\n",
    "Sex_dummy = pd.get_dummies(titanic_predict[\"Sex\"])\n",
    "Embarked_dummy = pd.get_dummies(titanic_predict[\"Embarked\"], prefix=\"Embarked\")\n",
    "titanic_predict_linear = titanic_predict.join([Sex_dummy, Embarked_dummy])\n",
    "titanic_predict_linear = titanic_predict_linear[['Pclass', 'Age', 'SibSp', 'Parch', 'Fare', 'female', 'male', 'Embarked_C', 'Embarked_Q', 'Embarked_S']]\n",
    "titanic_predict_linear.head(2)"
   ]
  },
  {
   "cell_type": "code",
   "execution_count": 5,
   "metadata": {},
   "outputs": [],
   "source": [
    "# X = features, y = labels\n",
    "X = titanic_train.drop(['Survived'], 1)\n",
    "y = titanic_train['Survived']\n",
    "X_linear = titanic_train_linear.drop(['Survived'], 1)\n",
    "y_linear = titanic_train_linear['Survived']"
   ]
  },
  {
   "cell_type": "code",
   "execution_count": 6,
   "metadata": {},
   "outputs": [],
   "source": [
    "# split data into test and train, set seed\n",
    "X_train, X_test, y_train, y_test = train_test_split(X, y, test_size=0.2, random_state=42)\n",
    "X_train_linear, X_test_linear, y_train_linear, y_test_linear = train_test_split(X_linear, y_linear, test_size=0.2, random_state=42)"
   ]
  },
  {
   "cell_type": "code",
   "execution_count": 7,
   "metadata": {},
   "outputs": [],
   "source": [
    "# create subsets\n",
    "X_train_linear2 = X_train_linear[[\"Pclass\", \"Age\", \"Fare\", \"female\"]]\n",
    "X_test_linear2 = X_test_linear[[\"Pclass\", \"Age\", \"Fare\", \"female\"]]\n",
    "\n",
    "X_train_linear3 = X_train_linear[[\"Age\", \"Fare\", \"female\"]]\n",
    "X_test_linear3 = X_test_linear[[\"Age\", \"Fare\", \"female\"]]\n",
    "\n",
    "X_train_linear4 = X_train_linear[[\"Pclass\", \"Age\", \"female\"]]\n",
    "X_test_linear4 = X_test_linear[[\"Pclass\", \"Age\", \"female\"]]\n",
    "\n",
    "X_train_linear5 = X_train_linear[[\"Age\", \"female\"]]\n",
    "X_test_linear5 = X_test_linear[[\"Age\", \"female\"]]\n"
   ]
  },
  {
   "cell_type": "code",
   "execution_count": 8,
   "metadata": {},
   "outputs": [
    {
     "name": "stdout",
     "output_type": "stream",
     "text": [
      "X_train: (711, 7)\n",
      "X_test: (178, 7)\n",
      "y_train: (711,)\n",
      "y_test: (178,)\n",
      "X_train_linear: (711, 10)\n",
      "X_test_linear: (178, 10)\n",
      "y_train_linear: (711,)\n",
      "y_test_linear: (178,)\n"
     ]
    }
   ],
   "source": [
    "print(\"X_train:\", X_train.shape)\n",
    "print(\"X_test:\", X_test.shape)\n",
    "print(\"y_train:\", y_train.shape)\n",
    "print(\"y_test:\", y_test.shape)\n",
    "print(\"X_train_linear:\", X_train_linear.shape)\n",
    "print(\"X_test_linear:\", X_test_linear.shape)\n",
    "print(\"y_train_linear:\", y_train_linear.shape)\n",
    "print(\"y_test_linear:\", y_test_linear.shape)"
   ]
  },
  {
   "cell_type": "code",
   "execution_count": 9,
   "metadata": {},
   "outputs": [
    {
     "name": "stdout",
     "output_type": "stream",
     "text": [
      "train score: 0.8073136427566807\n",
      "test score : 0.8033707865168539\n"
     ]
    }
   ],
   "source": [
    "# run logistic regresion with subsetted data \n",
    "clf_log =LogisticRegression()  # regularization doesn't change answer\n",
    "clf_log.fit(X_train_linear, y_train_linear)  # train classifier on train dataset\n",
    "print(\"train score:\", clf_log.score(X_train_linear, y_train_linear))  # 80.73% of train was correctly predicted\n",
    "print(\"test score :\", clf_log.score(X_test_linear, y_test_linear))  # 80.34% of test was correctly predicted"
   ]
  },
  {
   "cell_type": "code",
   "execution_count": 10,
   "metadata": {},
   "outputs": [],
   "source": [
    "#log_predict = clf_log.predict(titanic_predict_linear)"
   ]
  },
  {
   "cell_type": "code",
   "execution_count": 16,
   "metadata": {},
   "outputs": [
    {
     "name": "stdout",
     "output_type": "stream",
     "text": [
      "train score: 0.7988748241912799\n",
      "test score : 0.8146067415730337\n"
     ]
    }
   ],
   "source": [
    "# Pclass, Age, Fare, female\n",
    "clf_log2 = LogisticRegression(C=100)  # with regularization\n",
    "clf_log2.fit(X_train_linear2, y_train_linear)  # train classifier on train dataset\n",
    "print(\"train score:\", clf_log2.score(X_train_linear2, y_train_linear))  # 79.89% of train was correctly predicted\n",
    "print(\"test score :\", clf_log2.score(X_test_linear2, y_test_linear))  # 81.46% of test was correctly predicted"
   ]
  },
  {
   "cell_type": "code",
   "execution_count": 27,
   "metadata": {},
   "outputs": [
    {
     "name": "stdout",
     "output_type": "stream",
     "text": [
      "train score: 0.7777777777777778\n",
      "test score : 0.8033707865168539\n"
     ]
    }
   ],
   "source": [
    "# Age, Fare, female\n",
    "clf_log3 = LogisticRegression() # regularization doesn't change answer\n",
    "clf_log3.fit(X_train_linear3, y_train_linear)  # train classifier on train dataset\n",
    "print(\"train score:\", clf_log3.score(X_train_linear3, y_train_linear))  # 77.77% of train was correctly predicted\n",
    "print(\"test score :\", clf_log3.score(X_test_linear3, y_test_linear))  # 80.34% of test was correctly predicted"
   ]
  },
  {
   "cell_type": "code",
   "execution_count": 28,
   "metadata": {},
   "outputs": [
    {
     "name": "stdout",
     "output_type": "stream",
     "text": [
      "train score: 0.7988748241912799\n",
      "test score : 0.8089887640449438\n"
     ]
    }
   ],
   "source": [
    "# Pclass, Age, female\n",
    "clf_log4 = LogisticRegression(C=1000)  # with regularization\n",
    "clf_log4.fit(X_train_linear4, y_train_linear)  # train classifier on train dataset\n",
    "print(\"train score:\", clf_log4.score(X_train_linear4, y_train_linear))  # 79.89% of train was correctly predicted\n",
    "print(\"test score :\", clf_log4.score(X_test_linear4, y_test_linear))  # 80.90% of test was correctly predicted"
   ]
  },
  {
   "cell_type": "code",
   "execution_count": 29,
   "metadata": {},
   "outputs": [
    {
     "name": "stdout",
     "output_type": "stream",
     "text": [
      "train score: 0.7834036568213784\n",
      "test score : 0.797752808988764\n"
     ]
    }
   ],
   "source": [
    "# Age, female\n",
    "clf_log5 = LogisticRegression()  # regularization doesn't change answer\n",
    "clf_log5.fit(X_train_linear5, y_train_linear)  # train classifier on train dataset\n",
    "print(\"train score:\", clf_log5.score(X_train_linear5, y_train_linear))  # 78.34% of train was correctly predicted\n",
    "print(\"test score :\", clf_log5.score(X_test_linear5, y_test_linear))  # 79.77% of test was correctly predicted"
   ]
  },
  {
   "cell_type": "code",
   "execution_count": 31,
   "metadata": {},
   "outputs": [
    {
     "name": "stdout",
     "output_type": "stream",
     "text": [
      "[mean: 0.78762, std: 0.00799, params: {'C': 10, 'kernel': 'linear'}, mean: 0.78481, std: 0.00727, params: {'C': 1.0, 'kernel': 'linear'}, mean: 0.78622, std: 0.00704, params: {'C': 0.1, 'kernel': 'linear'}]\n",
      "best train score: 0.7876230661040787\n"
     ]
    },
    {
     "name": "stderr",
     "output_type": "stream",
     "text": [
      "c:\\python\\python36\\lib\\site-packages\\sklearn\\model_selection\\_search.py:761: DeprecationWarning: The grid_scores_ attribute was deprecated in version 0.18 in favor of the more elaborate cv_results_ attribute. The grid_scores_ attribute will not be available from 0.20\n",
      "  DeprecationWarning)\n"
     ]
    }
   ],
   "source": [
    "# run SVM - all data, hyperparameter search\n",
    "clf_svm = svm.SVC() \n",
    "grid = GridSearchCV(clf_svm,\n",
    "                    param_grid={'C': [10, 1.0, 0.1], 'kernel':['linear']},\n",
    "                    scoring='accuracy',\n",
    "                    n_jobs=-1,\n",
    "                    cv=None\n",
    "                   )\n",
    "\n",
    "grid.fit(X_train_linear, y_train_linear)  # train classifier on train dataset using multiple hyperparams\n",
    "print(grid.grid_scores_)\n",
    "print(\"best train score:\", grid.best_score_)  # 78.76%: best score with 'C': 10, 'kernel': 'linear', cv = None"
   ]
  },
  {
   "cell_type": "code",
   "execution_count": 33,
   "metadata": {},
   "outputs": [
    {
     "name": "stdout",
     "output_type": "stream",
     "text": [
      "train score: 0.7834036568213784\n",
      "test score : 0.797752808988764\n"
     ]
    }
   ],
   "source": [
    "# run SVM - all data, test score\n",
    "clf_svm = svm.SVC(C = 0.1, kernel = 'linear')  \n",
    "clf_svm.fit(X_train_linear, y_train_linear)  # train classifier on train dataset\n",
    "print(\"train score:\", clf_svm.score(X_train_linear, y_train_linear))  # 78.34% of train was correctly predicted\n",
    "print(\"test score :\", clf_svm.score(X_test_linear, y_test_linear))  # 79.77% of test was correctly predicted"
   ]
  },
  {
   "cell_type": "code",
   "execution_count": 36,
   "metadata": {},
   "outputs": [
    {
     "name": "stdout",
     "output_type": "stream",
     "text": [
      "[mean: 0.78340, std: 0.01449, params: {'C': 1000, 'kernel': 'linear'}, mean: 0.78340, std: 0.01449, params: {'C': 100, 'kernel': 'linear'}, mean: 0.78340, std: 0.01449, params: {'C': 10, 'kernel': 'linear'}, mean: 0.78340, std: 0.01449, params: {'C': 1.0, 'kernel': 'linear'}]\n",
      "best train score: 0.7834036568213784\n"
     ]
    },
    {
     "name": "stderr",
     "output_type": "stream",
     "text": [
      "c:\\python\\python36\\lib\\site-packages\\sklearn\\model_selection\\_search.py:761: DeprecationWarning: The grid_scores_ attribute was deprecated in version 0.18 in favor of the more elaborate cv_results_ attribute. The grid_scores_ attribute will not be available from 0.20\n",
      "  DeprecationWarning)\n"
     ]
    }
   ],
   "source": [
    "# run SVM - subset data (Pclass, Age, female), hyperparameter search\n",
    "clf_svm = svm.SVC() \n",
    "grid = GridSearchCV(clf_svm,\n",
    "                    param_grid={'C': [1000,100, 10, 1.0], 'kernel':['linear']},\n",
    "                    scoring='accuracy',\n",
    "                    n_jobs=-1,\n",
    "                    cv=5\n",
    "                   )\n",
    "\n",
    "grid.fit(X_train_linear4, y_train_linear)  # train classifier on train dataset using multiple hyperparams\n",
    "print(grid.grid_scores_)\n",
    "print(\"best train score:\", grid.best_score_)  # 78.34%: best score with multiple values for C and cv"
   ]
  },
  {
   "cell_type": "code",
   "execution_count": 68,
   "metadata": {},
   "outputs": [
    {
     "name": "stdout",
     "output_type": "stream",
     "text": [
      "train score: 0.8565400843881856\n",
      "test score : 0.8314606741573034\n"
     ]
    }
   ],
   "source": [
    "# run SVM: Pclass, Age, female\n",
    "clf_svm4 = svm.SVC(C=2, kernel= 'rbf')\n",
    "clf_svm4.fit(X_train_linear4, y_train_linear)  # train classifier on train dataset\n",
    "print(\"train score:\", clf_svm4.score(X_train_linear4, y_train_linear))  # 85.65% of train was correctly predicted\n",
    "print(\"test score :\", clf_svm4.score(X_test_linear4, y_test_linear))  # 83.15% of test was correctly predicted"
   ]
  },
  {
   "cell_type": "code",
   "execution_count": 73,
   "metadata": {},
   "outputs": [
    {
     "name": "stdout",
     "output_type": "stream",
     "text": [
      "clf_log4 scores [0.68       0.875      0.75       0.83333333 0.95833333 0.83333333\n",
      " 0.79166667 0.70833333 0.83333333 0.91666667 0.875      0.875\n",
      " 0.75       0.83333333 0.75       0.83333333 0.95833333 0.79166667\n",
      " 0.70833333 0.66666667 0.73913043 0.82608696 0.7826087  0.86956522\n",
      " 0.60869565 0.86956522 0.7826087  0.73913043 0.82608696 0.69565217]\n",
      "clf_svm4 scores [0.72       0.91666667 0.79166667 0.66666667 0.91666667 0.83333333\n",
      " 0.75       0.79166667 0.91666667 0.91666667 0.95833333 0.79166667\n",
      " 0.75       0.70833333 0.70833333 0.79166667 1.         0.75\n",
      " 0.75       0.83333333 0.73913043 0.7826087  0.73913043 0.86956522\n",
      " 0.73913043 0.82608696 0.82608696 0.7826087  0.7826087  0.7826087 ]\n"
     ]
    }
   ],
   "source": [
    "# do cross-validation\n",
    "accuracy = cross_val_score(clf_log4, X_train_linear4, y_train_linear, cv=30, scoring='accuracy')\n",
    "print(\"clf_log4 scores\", accuracy) \n",
    "accuracy = cross_val_score(clf_svm4, X_train_linear4, y_train_linear, cv=30, scoring='accuracy')\n",
    "print(\"clf_svm4 scores\", accuracy) "
   ]
  },
  {
   "cell_type": "code",
   "execution_count": 91,
   "metadata": {},
   "outputs": [
    {
     "name": "stdout",
     "output_type": "stream",
     "text": [
      "train score: 0.8452883263009845\n",
      "test score : 0.8258426966292135\n"
     ]
    }
   ],
   "source": [
    "# run decision tree model - all data\n",
    "clv_DT = DecisionTreeClassifier(max_depth=4)\n",
    "clv_DT.fit(X_train_linear, y_train_linear)\n",
    "print(\"train score:\", clv_DT.score(X_train_linear, y_train_linear))  # 84.53% of train was correctly predicted\n",
    "print(\"test score :\", clv_DT.score(X_test_linear, y_test_linear))  # 82.58% of test was correctly predicted"
   ]
  },
  {
   "cell_type": "code",
   "execution_count": 99,
   "metadata": {},
   "outputs": [
    {
     "name": "stdout",
     "output_type": "stream",
     "text": [
      "train score: 0.8143459915611815\n",
      "test score : 0.8146067415730337\n"
     ]
    }
   ],
   "source": [
    "# run decision tree model - Pclass, Age, female\n",
    "clv_DT = DecisionTreeClassifier(max_depth=3)\n",
    "clv_DT.fit(X_train_linear4, y_train_linear)\n",
    "print(\"train score:\", clv_DT.score(X_train_linear4, y_train_linear))  # 81.43% of train was correctly predicted\n",
    "print(\"test score :\", clv_DT.score(X_test_linear4, y_test_linear))  # 81.43% of test was correctly predicted"
   ]
  },
  {
   "cell_type": "code",
   "execution_count": 111,
   "metadata": {},
   "outputs": [
    {
     "name": "stdout",
     "output_type": "stream",
     "text": [
      "train score: 0.8284106891701828\n",
      "test score : 0.8202247191011236\n"
     ]
    }
   ],
   "source": [
    "# run decision tree model - Pclass, Fare, Age, female\n",
    "clv_DT = DecisionTreeClassifier(max_depth=3)\n",
    "clv_DT.fit(X_train_linear2, y_train_linear)\n",
    "print(\"train score:\", clv_DT.score(X_train_linear2, y_train_linear))  # 82.84% of train was correctly predicted\n",
    "print(\"test score :\", clv_DT.score(X_test_linear2, y_test_linear))  # 82.02% of test was correctly predicted"
   ]
  },
  {
   "cell_type": "code",
   "execution_count": 1,
   "metadata": {},
   "outputs": [],
   "source": [
    "# medium\n",
    "# make predictions for new data from Kaggle\n",
    "# submit the final prediction to Kaggle\n",
    "# Use git to publish your code on GitHub\n",
    "# complete the Linux command line tutorial"
   ]
  },
  {
   "cell_type": "code",
   "execution_count": 2,
   "metadata": {},
   "outputs": [],
   "source": [
    "# hard\n",
    "# build a dummy model that always predicts “does not survive”\n",
    "# implement a scikit-learn Estimator class\n",
    "# create a bar plot with percentage values on top\n",
    "# implement Logistic Regression from scratch"
   ]
  },
  {
   "cell_type": "code",
   "execution_count": null,
   "metadata": {},
   "outputs": [],
   "source": []
  }
 ],
 "metadata": {
  "kernelspec": {
   "display_name": "Python 3",
   "language": "python",
   "name": "python3"
  },
  "language_info": {
   "codemirror_mode": {
    "name": "ipython",
    "version": 3
   },
   "file_extension": ".py",
   "mimetype": "text/x-python",
   "name": "python",
   "nbconvert_exporter": "python",
   "pygments_lexer": "ipython3",
   "version": "3.6.5"
  }
 },
 "nbformat": 4,
 "nbformat_minor": 2
}
