{
 "cells": [
  {
   "cell_type": "code",
   "execution_count": 281,
   "metadata": {},
   "outputs": [],
   "source": [
    "import pandas as pd\n",
    "import numpy as np\n",
    "from sklearn.model_selection import train_test_split, GridSearchCV\n",
    "from sklearn.linear_model import LogisticRegression\n",
    "from sklearn import svm, datasets\n",
    "from sklearn.tree import DecisionTreeClassifier\n",
    "from sklearn.model_selection import cross_val_score\n",
    "import matplotlib.pyplot as plt\n",
    "from pprint import pprint  # pretty print"
   ]
  },
  {
   "cell_type": "code",
   "execution_count": 282,
   "metadata": {},
   "outputs": [],
   "source": [
    "# import cleaned datasets: titanic_train, titanic_predict\n",
    "titanic_train = pd.read_csv(\"C:\\\\Users\\\\Lillian\\\\Documents\\\\bootcamp\\\\titanic_train_clean.csv\", index_col = 'PassengerId')\n",
    "titanic_predict = pd.read_csv(\"C:\\\\Users\\\\Lillian\\\\Documents\\\\bootcamp\\\\titanic_predict_clean.csv\", index_col = 'PassengerId')"
   ]
  },
  {
   "cell_type": "code",
   "execution_count": 283,
   "metadata": {},
   "outputs": [
    {
     "data": {
      "text/html": [
       "<div>\n",
       "<style scoped>\n",
       "    .dataframe tbody tr th:only-of-type {\n",
       "        vertical-align: middle;\n",
       "    }\n",
       "\n",
       "    .dataframe tbody tr th {\n",
       "        vertical-align: top;\n",
       "    }\n",
       "\n",
       "    .dataframe thead th {\n",
       "        text-align: right;\n",
       "    }\n",
       "</style>\n",
       "<table border=\"1\" class=\"dataframe\">\n",
       "  <thead>\n",
       "    <tr style=\"text-align: right;\">\n",
       "      <th></th>\n",
       "      <th>Survived</th>\n",
       "      <th>Pclass</th>\n",
       "      <th>Age</th>\n",
       "      <th>SibSp</th>\n",
       "      <th>Parch</th>\n",
       "      <th>Fare</th>\n",
       "      <th>female</th>\n",
       "      <th>male</th>\n",
       "      <th>Embarked_C</th>\n",
       "      <th>Embarked_Q</th>\n",
       "      <th>Embarked_S</th>\n",
       "    </tr>\n",
       "    <tr>\n",
       "      <th>PassengerId</th>\n",
       "      <th></th>\n",
       "      <th></th>\n",
       "      <th></th>\n",
       "      <th></th>\n",
       "      <th></th>\n",
       "      <th></th>\n",
       "      <th></th>\n",
       "      <th></th>\n",
       "      <th></th>\n",
       "      <th></th>\n",
       "      <th></th>\n",
       "    </tr>\n",
       "  </thead>\n",
       "  <tbody>\n",
       "    <tr>\n",
       "      <th>1</th>\n",
       "      <td>0</td>\n",
       "      <td>3</td>\n",
       "      <td>22</td>\n",
       "      <td>1</td>\n",
       "      <td>0</td>\n",
       "      <td>7.2500</td>\n",
       "      <td>0</td>\n",
       "      <td>1</td>\n",
       "      <td>0</td>\n",
       "      <td>0</td>\n",
       "      <td>1</td>\n",
       "    </tr>\n",
       "    <tr>\n",
       "      <th>2</th>\n",
       "      <td>1</td>\n",
       "      <td>1</td>\n",
       "      <td>38</td>\n",
       "      <td>1</td>\n",
       "      <td>0</td>\n",
       "      <td>71.2833</td>\n",
       "      <td>1</td>\n",
       "      <td>0</td>\n",
       "      <td>1</td>\n",
       "      <td>0</td>\n",
       "      <td>0</td>\n",
       "    </tr>\n",
       "  </tbody>\n",
       "</table>\n",
       "</div>"
      ],
      "text/plain": [
       "             Survived  Pclass  Age  SibSp  Parch     Fare  female  male  \\\n",
       "PassengerId                                                               \n",
       "1                   0       3   22      1      0   7.2500       0     1   \n",
       "2                   1       1   38      1      0  71.2833       1     0   \n",
       "\n",
       "             Embarked_C  Embarked_Q  Embarked_S  \n",
       "PassengerId                                      \n",
       "1                     0           0           1  \n",
       "2                     1           0           0  "
      ]
     },
     "execution_count": 283,
     "metadata": {},
     "output_type": "execute_result"
    }
   ],
   "source": [
    "# create dummies for categorical train data\n",
    "Sex_dummy = pd.get_dummies(titanic_train[\"Sex\"])\n",
    "Embarked_dummy = pd.get_dummies(titanic_train[\"Embarked\"], prefix=\"Embarked\")\n",
    "titanic_train_linear = titanic_train.join([Sex_dummy, Embarked_dummy])\n",
    "titanic_train_linear = titanic_train_linear[['Survived', 'Pclass', 'Age', 'SibSp', 'Parch', 'Fare', 'female', 'male', 'Embarked_C', 'Embarked_Q', 'Embarked_S']]\n",
    "titanic_train_linear.head(2)"
   ]
  },
  {
   "cell_type": "code",
   "execution_count": 284,
   "metadata": {},
   "outputs": [
    {
     "data": {
      "text/html": [
       "<div>\n",
       "<style scoped>\n",
       "    .dataframe tbody tr th:only-of-type {\n",
       "        vertical-align: middle;\n",
       "    }\n",
       "\n",
       "    .dataframe tbody tr th {\n",
       "        vertical-align: top;\n",
       "    }\n",
       "\n",
       "    .dataframe thead th {\n",
       "        text-align: right;\n",
       "    }\n",
       "</style>\n",
       "<table border=\"1\" class=\"dataframe\">\n",
       "  <thead>\n",
       "    <tr style=\"text-align: right;\">\n",
       "      <th></th>\n",
       "      <th>Pclass</th>\n",
       "      <th>Age</th>\n",
       "      <th>SibSp</th>\n",
       "      <th>Parch</th>\n",
       "      <th>Fare</th>\n",
       "      <th>female</th>\n",
       "      <th>male</th>\n",
       "      <th>Embarked_C</th>\n",
       "      <th>Embarked_Q</th>\n",
       "      <th>Embarked_S</th>\n",
       "    </tr>\n",
       "    <tr>\n",
       "      <th>PassengerId</th>\n",
       "      <th></th>\n",
       "      <th></th>\n",
       "      <th></th>\n",
       "      <th></th>\n",
       "      <th></th>\n",
       "      <th></th>\n",
       "      <th></th>\n",
       "      <th></th>\n",
       "      <th></th>\n",
       "      <th></th>\n",
       "    </tr>\n",
       "  </thead>\n",
       "  <tbody>\n",
       "    <tr>\n",
       "      <th>892</th>\n",
       "      <td>3</td>\n",
       "      <td>34</td>\n",
       "      <td>0</td>\n",
       "      <td>0</td>\n",
       "      <td>7.8292</td>\n",
       "      <td>0</td>\n",
       "      <td>1</td>\n",
       "      <td>0</td>\n",
       "      <td>1</td>\n",
       "      <td>0</td>\n",
       "    </tr>\n",
       "    <tr>\n",
       "      <th>893</th>\n",
       "      <td>3</td>\n",
       "      <td>47</td>\n",
       "      <td>1</td>\n",
       "      <td>0</td>\n",
       "      <td>7.0000</td>\n",
       "      <td>1</td>\n",
       "      <td>0</td>\n",
       "      <td>0</td>\n",
       "      <td>0</td>\n",
       "      <td>1</td>\n",
       "    </tr>\n",
       "  </tbody>\n",
       "</table>\n",
       "</div>"
      ],
      "text/plain": [
       "             Pclass  Age  SibSp  Parch    Fare  female  male  Embarked_C  \\\n",
       "PassengerId                                                                \n",
       "892               3   34      0      0  7.8292       0     1           0   \n",
       "893               3   47      1      0  7.0000       1     0           0   \n",
       "\n",
       "             Embarked_Q  Embarked_S  \n",
       "PassengerId                          \n",
       "892                   1           0  \n",
       "893                   0           1  "
      ]
     },
     "execution_count": 284,
     "metadata": {},
     "output_type": "execute_result"
    }
   ],
   "source": [
    "# create dummies for categorical predict data (do for Pclass?)\n",
    "Sex_dummy = pd.get_dummies(titanic_predict[\"Sex\"])\n",
    "Embarked_dummy = pd.get_dummies(titanic_predict[\"Embarked\"], prefix=\"Embarked\")\n",
    "titanic_predict_linear = titanic_predict.join([Sex_dummy, Embarked_dummy])\n",
    "titanic_predict_linear = titanic_predict_linear[['Pclass', 'Age', 'SibSp', 'Parch', 'Fare', 'female', 'male', 'Embarked_C', 'Embarked_Q', 'Embarked_S']]\n",
    "titanic_predict_linear.head(2)"
   ]
  },
  {
   "cell_type": "code",
   "execution_count": 285,
   "metadata": {},
   "outputs": [],
   "source": [
    "# X = features, y = labels\n",
    "X = titanic_train.drop(['Survived'], 1)\n",
    "y = titanic_train['Survived']\n",
    "X_linear = titanic_train_linear.drop(['Survived'], 1)\n",
    "y_linear = titanic_train_linear['Survived']"
   ]
  },
  {
   "cell_type": "code",
   "execution_count": 286,
   "metadata": {},
   "outputs": [],
   "source": [
    "# split data into test and train, set seed\n",
    "X_train, X_test, y_train, y_test = train_test_split(X, y, test_size=0.2, random_state=42)\n",
    "X_train_linear, X_test_linear, y_train_linear, y_test_linear = train_test_split(X_linear, y_linear, test_size=0.2, random_state=42)"
   ]
  },
  {
   "cell_type": "code",
   "execution_count": 287,
   "metadata": {},
   "outputs": [],
   "source": [
    "# create subsets\n",
    "X_train_linear2 = X_train_linear[[\"Pclass\", \"Age\", \"Fare\", \"female\"]]\n",
    "X_test_linear2 = X_test_linear[[\"Pclass\", \"Age\", \"Fare\", \"female\"]]\n",
    "\n",
    "X_train_linear3 = X_train_linear[[\"Age\", \"Fare\", \"female\"]]\n",
    "X_test_linear3 = X_test_linear[[\"Age\", \"Fare\", \"female\"]]\n",
    "\n",
    "X_train_linear4 = X_train_linear[[\"Pclass\", \"Age\", \"female\"]]\n",
    "X_test_linear4 = X_test_linear[[\"Pclass\", \"Age\", \"female\"]]\n",
    "\n",
    "X_train_linear5 = X_train_linear[[\"Age\", \"female\"]]\n",
    "X_test_linear5 = X_test_linear[[\"Age\", \"female\"]]\n"
   ]
  },
  {
   "cell_type": "code",
   "execution_count": 288,
   "metadata": {},
   "outputs": [
    {
     "name": "stdout",
     "output_type": "stream",
     "text": [
      "X_train: (711, 7)\n",
      "X_test: (178, 7)\n",
      "y_train: (711,)\n",
      "y_test: (178,)\n",
      "X_train_linear: (711, 10)\n",
      "X_test_linear: (178, 10)\n",
      "y_train_linear: (711,)\n",
      "y_test_linear: (178,)\n"
     ]
    }
   ],
   "source": [
    "print(\"X_train:\", X_train.shape)\n",
    "print(\"X_test:\", X_test.shape)\n",
    "print(\"y_train:\", y_train.shape)\n",
    "print(\"y_test:\", y_test.shape)\n",
    "print(\"X_train_linear:\", X_train_linear.shape)\n",
    "print(\"X_test_linear:\", X_test_linear.shape)\n",
    "print(\"y_train_linear:\", y_train_linear.shape)\n",
    "print(\"y_test_linear:\", y_test_linear.shape)"
   ]
  },
  {
   "cell_type": "code",
   "execution_count": 289,
   "metadata": {},
   "outputs": [
    {
     "name": "stdout",
     "output_type": "stream",
     "text": [
      "train score: 0.8073136427566807\n",
      "test score : 0.8033707865168539\n"
     ]
    }
   ],
   "source": [
    "# run logistic regresion\n",
    "clf_log =LogisticRegression()  # regularization doesn't change answer\n",
    "clf_log.fit(X_train_linear, y_train_linear)  # train classifier on train dataset\n",
    "print(\"train score:\", clf_log.score(X_train_linear, y_train_linear))  # 80.73% of train was correctly predicted\n",
    "print(\"test score :\", clf_log.score(X_test_linear, y_test_linear))  # 80.34% of test was correctly predicted"
   ]
  },
  {
   "cell_type": "code",
   "execution_count": 290,
   "metadata": {},
   "outputs": [
    {
     "name": "stdout",
     "output_type": "stream",
     "text": [
      "train score: 0.7988748241912799\n",
      "test score : 0.8146067415730337\n"
     ]
    }
   ],
   "source": [
    "# Pclass, Age, Fare, female\n",
    "clf_log2 = LogisticRegression(C=100)  # with regularization\n",
    "clf_log2.fit(X_train_linear2, y_train_linear)  # train classifier on train dataset\n",
    "print(\"train score:\", clf_log2.score(X_train_linear2, y_train_linear))  # 79.89% of train was correctly predicted\n",
    "print(\"test score :\", clf_log2.score(X_test_linear2, y_test_linear))  # 81.46% of test was correctly predicted"
   ]
  },
  {
   "cell_type": "code",
   "execution_count": 291,
   "metadata": {},
   "outputs": [
    {
     "name": "stdout",
     "output_type": "stream",
     "text": [
      "train score: 0.7777777777777778\n",
      "test score : 0.8033707865168539\n"
     ]
    }
   ],
   "source": [
    "# Age, Fare, female\n",
    "clf_log3 = LogisticRegression() # regularization doesn't change answer\n",
    "clf_log3.fit(X_train_linear3, y_train_linear)  # train classifier on train dataset\n",
    "print(\"train score:\", clf_log3.score(X_train_linear3, y_train_linear))  # 77.77% of train was correctly predicted\n",
    "print(\"test score :\", clf_log3.score(X_test_linear3, y_test_linear))  # 80.34% of test was correctly predicted"
   ]
  },
  {
   "cell_type": "code",
   "execution_count": 292,
   "metadata": {},
   "outputs": [
    {
     "name": "stdout",
     "output_type": "stream",
     "text": [
      "train score: 0.7988748241912799\n",
      "test score : 0.8089887640449438\n"
     ]
    }
   ],
   "source": [
    "# Pclass, Age, female\n",
    "clf_log4 = LogisticRegression(C=1000)  # with regularization\n",
    "clf_log4.fit(X_train_linear4, y_train_linear)  # train classifier on train dataset\n",
    "print(\"train score:\", clf_log4.score(X_train_linear4, y_train_linear))  # 79.89% of train was correctly predicted\n",
    "print(\"test score :\", clf_log4.score(X_test_linear4, y_test_linear))  # 80.90% of test was correctly predicted"
   ]
  },
  {
   "cell_type": "code",
   "execution_count": 293,
   "metadata": {},
   "outputs": [
    {
     "name": "stdout",
     "output_type": "stream",
     "text": [
      "train score: 0.7834036568213784\n",
      "test score : 0.797752808988764\n"
     ]
    }
   ],
   "source": [
    "# Age, female\n",
    "clf_log5 = LogisticRegression()  # regularization doesn't change answer\n",
    "clf_log5.fit(X_train_linear5, y_train_linear)  # train classifier on train dataset\n",
    "print(\"train score:\", clf_log5.score(X_train_linear5, y_train_linear))  # 78.34% of train was correctly predicted\n",
    "print(\"test score :\", clf_log5.score(X_test_linear5, y_test_linear))  # 79.77% of test was correctly predicted"
   ]
  },
  {
   "cell_type": "code",
   "execution_count": 294,
   "metadata": {},
   "outputs": [
    {
     "name": "stdout",
     "output_type": "stream",
     "text": [
      "best train score: 0.8073136427566807 LogisticRegression(C=10, class_weight=None, dual=False, fit_intercept=True,\n",
      "          intercept_scaling=1, max_iter=100, multi_class='ovr', n_jobs=1,\n",
      "          penalty='l2', random_state=None, solver='liblinear', tol=0.0001,\n",
      "          verbose=0, warm_start=False)\n"
     ]
    }
   ],
   "source": [
    "# run previous results with cross-validation\n",
    "clf_log_cv = LogisticRegression()\n",
    "grid = GridSearchCV(clf_log_cv, \n",
    "                    param_grid = {'C': [1, 10, 100, 1000] }, \n",
    "                    cv = 5, # tested: 5, 10\n",
    "                    n_jobs = 1,\n",
    "                    refit=True)\n",
    "grid.fit(X_train_linear, y_train_linear)\n",
    "print(\"best train score:\", grid.best_score_, grid.best_estimator_) \n",
    "# X_train_linear - 80.73% no improvement  #1\n",
    "# X_train_linear2 - 80.45% better results with cv = 10 (C = 100 or 1000)\n",
    "# X_train_linear3 - no improvement\n",
    "# X_train_linear4 - 80.39% better results with cv = 5 (C = 100 or 1000)  \n",
    "# X_train_linear5 - no improvement"
   ]
  },
  {
   "cell_type": "code",
   "execution_count": 295,
   "metadata": {},
   "outputs": [
    {
     "name": "stdout",
     "output_type": "stream",
     "text": [
      "best train score: 0.7834036568213784 LogisticRegression(C=1, class_weight=None, dual=False, fit_intercept=True,\n",
      "          intercept_scaling=1, max_iter=100, multi_class='ovr', n_jobs=1,\n",
      "          penalty='l1', random_state=None, solver='liblinear', tol=0.0001,\n",
      "          verbose=0, warm_start=False)\n"
     ]
    }
   ],
   "source": [
    "# use lasso regularization\n",
    "clf_log_lasso = LogisticRegression(penalty = 'l1') #l1 = lasso\n",
    "grid = GridSearchCV(clf_log_lasso, \n",
    "                    param_grid = {'C': [1, 10, 100, 1000] }, \n",
    "                    cv=None, \n",
    "                    refit=True)\n",
    "grid.fit(X_train_linear5, y_train_linear)\n",
    "print(\"best train score:\", grid.best_score_, grid.best_estimator_) \n",
    "# X_train_linear - no improvement, X_train_linear2,3,4 - worse results"
   ]
  },
  {
   "cell_type": "code",
   "execution_count": 296,
   "metadata": {},
   "outputs": [],
   "source": [
    "# make logistic regression prediction\n",
    "titanic_predict_linear[\"Survived\"] = clf_log.predict(titanic_predict_linear)\n",
    "titanic_predict_linear[['Survived']].to_csv('kaggle_titanic_log.csv')\n",
    "titanic_predict_linear = titanic_predict_linear.drop(['Survived'], 1)"
   ]
  },
  {
   "cell_type": "code",
   "execution_count": 268,
   "metadata": {},
   "outputs": [
    {
     "name": "stdout",
     "output_type": "stream",
     "text": [
      "best train score: 0.7834036568213784 SVC(C=10, cache_size=200, class_weight=None, coef0=0.0,\n",
      "  decision_function_shape='ovr', degree=3, gamma='auto', kernel='linear',\n",
      "  max_iter=-1, probability=False, random_state=None, shrinking=True,\n",
      "  tol=0.001, verbose=False)\n"
     ]
    }
   ],
   "source": [
    "# run SVM - all data, hyperparameter search\n",
    "clf_svm = svm.SVC() \n",
    "grid = GridSearchCV(clf_svm,\n",
    "                    param_grid={'C': [10, 1.0, 0.1], 'kernel':['linear', 'rbf']},\n",
    "                    scoring='accuracy',\n",
    "                    n_jobs=1,\n",
    "                    cv=None\n",
    "                   )\n",
    "\n",
    "grid.fit(X_train_linear5, y_train_linear)  # train classifier on train dataset using multiple hyperparams\n",
    "print(\"best train score:\", grid.best_score_, grid.best_estimator_)\n",
    "# X_train_linear: 78.76%: best score with 'C': 10, 'kernel': 'linear', cv = None\n",
    "# X_train_linear2: 78.34%: best score with 'C': 10, 'kernel': 'linear', cv = None\n",
    "# X_train_linear3: 78.34%: best score with 'C': 10, 'kernel': 'linear', cv = None\n",
    "# X_train_linear4: 78.34%: best score with 'C': 10, 'kernel': 'linear', cv = None\n",
    "# X_train_linear5: 78.34%: best score with 'C': 10, 'kernel': 'linear', cv = None"
   ]
  },
  {
   "cell_type": "code",
   "execution_count": 269,
   "metadata": {},
   "outputs": [
    {
     "name": "stdout",
     "output_type": "stream",
     "text": [
      "train score: 0.7890295358649789\n",
      "test score : 0.8033707865168539\n"
     ]
    }
   ],
   "source": [
    "# run SVM - all data, test score based on above \"best results\"\n",
    "clf_svm = svm.SVC(C = 10, kernel = 'linear')  \n",
    "clf_svm.fit(X_train_linear, y_train_linear)  # train classifier on train dataset\n",
    "print(\"train score:\", clf_svm.score(X_train_linear, y_train_linear))  # 78.9% of train was correctly predicted\n",
    "print(\"test score :\", clf_svm.score(X_test_linear, y_test_linear))  # 80.34% of test was correctly predicted"
   ]
  },
  {
   "cell_type": "code",
   "execution_count": 270,
   "metadata": {},
   "outputs": [
    {
     "name": "stdout",
     "output_type": "stream",
     "text": [
      "train score: 0.8565400843881856\n",
      "test score : 0.8314606741573034\n"
     ]
    }
   ],
   "source": [
    "# tweaking SVM manually: Pclass, Age, female\n",
    "clf_svm4 = svm.SVC(C=2, kernel= 'rbf')\n",
    "clf_svm4.fit(X_train_linear4, y_train_linear)  # train classifier on train dataset\n",
    "print(\"train score:\", clf_svm4.score(X_train_linear4, y_train_linear))  # 85.65% of train was correctly predicted\n",
    "print(\"test score :\", clf_svm4.score(X_test_linear4, y_test_linear))  # 83.15% of test was correctly predicted"
   ]
  },
  {
   "cell_type": "code",
   "execution_count": 271,
   "metadata": {},
   "outputs": [
    {
     "name": "stderr",
     "output_type": "stream",
     "text": [
      "c:\\python\\python36\\lib\\site-packages\\ipykernel_launcher.py:2: SettingWithCopyWarning: \n",
      "A value is trying to be set on a copy of a slice from a DataFrame.\n",
      "Try using .loc[row_indexer,col_indexer] = value instead\n",
      "\n",
      "See the caveats in the documentation: http://pandas.pydata.org/pandas-docs/stable/indexing.html#indexing-view-versus-copy\n",
      "  \n"
     ]
    }
   ],
   "source": [
    "titanic_predict_linear4 = titanic_predict_linear[[\"Pclass\", \"Age\", \"female\"]]\n",
    "titanic_predict_linear4[\"Survived\"] = clf_svm4.predict(titanic_predict_linear4)\n",
    "titanic_predict_linear4[['Survived']].to_csv('kaggle_titanic_svm.csv')"
   ]
  },
  {
   "cell_type": "code",
   "execution_count": 272,
   "metadata": {},
   "outputs": [
    {
     "name": "stdout",
     "output_type": "stream",
     "text": [
      "clf_log4 scores [0.68       0.875      0.75       0.83333333 0.95833333 0.83333333\n",
      " 0.79166667 0.70833333 0.83333333 0.91666667 0.875      0.875\n",
      " 0.75       0.83333333 0.75       0.83333333 0.95833333 0.79166667\n",
      " 0.70833333 0.66666667 0.73913043 0.82608696 0.7826087  0.86956522\n",
      " 0.60869565 0.86956522 0.7826087  0.73913043 0.82608696 0.69565217]\n",
      "clf_svm4 scores [0.72       0.91666667 0.79166667 0.66666667 0.91666667 0.83333333\n",
      " 0.75       0.79166667 0.91666667 0.91666667 0.95833333 0.79166667\n",
      " 0.75       0.70833333 0.70833333 0.79166667 1.         0.75\n",
      " 0.75       0.83333333 0.73913043 0.7826087  0.73913043 0.86956522\n",
      " 0.73913043 0.82608696 0.82608696 0.7826087  0.7826087  0.7826087 ]\n"
     ]
    }
   ],
   "source": [
    "# do cross-validation\n",
    "accuracy = cross_val_score(clf_log4, X_train_linear4, y_train_linear, cv=30, scoring='accuracy')\n",
    "print(\"clf_log4 scores\", accuracy) \n",
    "accuracy = cross_val_score(clf_svm4, X_train_linear4, y_train_linear, cv=30, scoring='accuracy')\n",
    "print(\"clf_svm4 scores\", accuracy) "
   ]
  },
  {
   "cell_type": "code",
   "execution_count": 273,
   "metadata": {},
   "outputs": [
    {
     "name": "stdout",
     "output_type": "stream",
     "text": [
      "train score: 0.8452883263009845\n",
      "test score : 0.8202247191011236\n"
     ]
    }
   ],
   "source": [
    "# run decision tree model - all data\n",
    "clv_DT = DecisionTreeClassifier(max_depth=4)\n",
    "clv_DT.fit(X_train_linear, y_train_linear)\n",
    "print(\"train score:\", clv_DT.score(X_train_linear, y_train_linear))  # 84.53% of train was correctly predicted\n",
    "print(\"test score :\", clv_DT.score(X_test_linear, y_test_linear))  # 82.58% of test was correctly predicted"
   ]
  },
  {
   "cell_type": "code",
   "execution_count": 274,
   "metadata": {},
   "outputs": [
    {
     "name": "stdout",
     "output_type": "stream",
     "text": [
      "train score: 0.8143459915611815\n",
      "test score : 0.8146067415730337\n"
     ]
    }
   ],
   "source": [
    "# run decision tree model - Pclass, Age, female\n",
    "clv_DT4 = DecisionTreeClassifier(max_depth=3)\n",
    "clv_DT4.fit(X_train_linear4, y_train_linear)\n",
    "print(\"train score:\", clv_DT4.score(X_train_linear4, y_train_linear))  # 81.43% of train was correctly predicted\n",
    "print(\"test score :\", clv_DT4.score(X_test_linear4, y_test_linear))  # 81.43% of test was correctly predicted"
   ]
  },
  {
   "cell_type": "code",
   "execution_count": 275,
   "metadata": {},
   "outputs": [
    {
     "name": "stdout",
     "output_type": "stream",
     "text": [
      "train score: 0.8284106891701828\n",
      "test score : 0.8202247191011236\n"
     ]
    }
   ],
   "source": [
    "# run decision tree model - Pclass, Fare, Age, female\n",
    "clv_DT2 = DecisionTreeClassifier(max_depth=3)\n",
    "clv_DT2.fit(X_train_linear2, y_train_linear)\n",
    "print(\"train score:\", clv_DT2.score(X_train_linear2, y_train_linear))  # 82.84% of train was correctly predicted\n",
    "print(\"test score :\", clv_DT2.score(X_test_linear2, y_test_linear))  # 82.02% of test was correctly predicted"
   ]
  },
  {
   "cell_type": "code",
   "execution_count": 280,
   "metadata": {},
   "outputs": [],
   "source": [
    "# make decision tree prediction\n",
    "titanic_predict_linear[\"Survived\"] = clv_DT.predict(titanic_predict_linear)\n",
    "titanic_predict_linear[['Survived']].to_csv('kaggle_titanic_DT.csv')\n",
    "titanic_predict_linear = titanic_predict_linear.drop(['Survived'], 1)"
   ]
  },
  {
   "cell_type": "code",
   "execution_count": 277,
   "metadata": {},
   "outputs": [],
   "source": [
    "# medium\n",
    "# bootstrapping\n",
    "# make predictions for new data from Kaggle: log_predict = clf_log.predict(titanic_predict_linear)\n",
    "# submit the final prediction to Kaggle\n",
    "# Use git to publish your code on GitHub\n",
    "# complete the Linux command line tutorial"
   ]
  },
  {
   "cell_type": "code",
   "execution_count": 278,
   "metadata": {},
   "outputs": [],
   "source": [
    "# hard\n",
    "# build a dummy model that always predicts “does not survive”\n",
    "# implement a scikit-learn Estimator class\n",
    "# create a bar plot with percentage values on top\n",
    "# implement Logistic Regression from scratch"
   ]
  },
  {
   "cell_type": "code",
   "execution_count": 279,
   "metadata": {},
   "outputs": [
    {
     "data": {
      "text/html": [
       "<div>\n",
       "<style scoped>\n",
       "    .dataframe tbody tr th:only-of-type {\n",
       "        vertical-align: middle;\n",
       "    }\n",
       "\n",
       "    .dataframe tbody tr th {\n",
       "        vertical-align: top;\n",
       "    }\n",
       "\n",
       "    .dataframe thead th {\n",
       "        text-align: right;\n",
       "    }\n",
       "</style>\n",
       "<table border=\"1\" class=\"dataframe\">\n",
       "  <thead>\n",
       "    <tr style=\"text-align: right;\">\n",
       "      <th></th>\n",
       "      <th>Pclass</th>\n",
       "      <th>Age</th>\n",
       "      <th>SibSp</th>\n",
       "      <th>Parch</th>\n",
       "      <th>Fare</th>\n",
       "      <th>female</th>\n",
       "      <th>male</th>\n",
       "      <th>Embarked_C</th>\n",
       "      <th>Embarked_Q</th>\n",
       "      <th>Embarked_S</th>\n",
       "    </tr>\n",
       "    <tr>\n",
       "      <th>PassengerId</th>\n",
       "      <th></th>\n",
       "      <th></th>\n",
       "      <th></th>\n",
       "      <th></th>\n",
       "      <th></th>\n",
       "      <th></th>\n",
       "      <th></th>\n",
       "      <th></th>\n",
       "      <th></th>\n",
       "      <th></th>\n",
       "    </tr>\n",
       "  </thead>\n",
       "  <tbody>\n",
       "    <tr>\n",
       "      <th>892</th>\n",
       "      <td>3</td>\n",
       "      <td>34</td>\n",
       "      <td>0</td>\n",
       "      <td>0</td>\n",
       "      <td>7.8292</td>\n",
       "      <td>0</td>\n",
       "      <td>1</td>\n",
       "      <td>0</td>\n",
       "      <td>1</td>\n",
       "      <td>0</td>\n",
       "    </tr>\n",
       "    <tr>\n",
       "      <th>893</th>\n",
       "      <td>3</td>\n",
       "      <td>47</td>\n",
       "      <td>1</td>\n",
       "      <td>0</td>\n",
       "      <td>7.0000</td>\n",
       "      <td>1</td>\n",
       "      <td>0</td>\n",
       "      <td>0</td>\n",
       "      <td>0</td>\n",
       "      <td>1</td>\n",
       "    </tr>\n",
       "    <tr>\n",
       "      <th>894</th>\n",
       "      <td>2</td>\n",
       "      <td>62</td>\n",
       "      <td>0</td>\n",
       "      <td>0</td>\n",
       "      <td>9.6875</td>\n",
       "      <td>0</td>\n",
       "      <td>1</td>\n",
       "      <td>0</td>\n",
       "      <td>1</td>\n",
       "      <td>0</td>\n",
       "    </tr>\n",
       "    <tr>\n",
       "      <th>895</th>\n",
       "      <td>3</td>\n",
       "      <td>27</td>\n",
       "      <td>0</td>\n",
       "      <td>0</td>\n",
       "      <td>8.6625</td>\n",
       "      <td>0</td>\n",
       "      <td>1</td>\n",
       "      <td>0</td>\n",
       "      <td>0</td>\n",
       "      <td>1</td>\n",
       "    </tr>\n",
       "    <tr>\n",
       "      <th>896</th>\n",
       "      <td>3</td>\n",
       "      <td>22</td>\n",
       "      <td>1</td>\n",
       "      <td>1</td>\n",
       "      <td>12.2875</td>\n",
       "      <td>1</td>\n",
       "      <td>0</td>\n",
       "      <td>0</td>\n",
       "      <td>0</td>\n",
       "      <td>1</td>\n",
       "    </tr>\n",
       "  </tbody>\n",
       "</table>\n",
       "</div>"
      ],
      "text/plain": [
       "             Pclass  Age  SibSp  Parch     Fare  female  male  Embarked_C  \\\n",
       "PassengerId                                                                 \n",
       "892               3   34      0      0   7.8292       0     1           0   \n",
       "893               3   47      1      0   7.0000       1     0           0   \n",
       "894               2   62      0      0   9.6875       0     1           0   \n",
       "895               3   27      0      0   8.6625       0     1           0   \n",
       "896               3   22      1      1  12.2875       1     0           0   \n",
       "\n",
       "             Embarked_Q  Embarked_S  \n",
       "PassengerId                          \n",
       "892                   1           0  \n",
       "893                   0           1  \n",
       "894                   1           0  \n",
       "895                   0           1  \n",
       "896                   0           1  "
      ]
     },
     "execution_count": 279,
     "metadata": {},
     "output_type": "execute_result"
    }
   ],
   "source": [
    "titanic_predict_linear.head()"
   ]
  },
  {
   "cell_type": "code",
   "execution_count": null,
   "metadata": {},
   "outputs": [],
   "source": []
  }
 ],
 "metadata": {
  "kernelspec": {
   "display_name": "Python 3",
   "language": "python",
   "name": "python3"
  },
  "language_info": {
   "codemirror_mode": {
    "name": "ipython",
    "version": 3
   },
   "file_extension": ".py",
   "mimetype": "text/x-python",
   "name": "python",
   "nbconvert_exporter": "python",
   "pygments_lexer": "ipython3",
   "version": "3.6.5"
  }
 },
 "nbformat": 4,
 "nbformat_minor": 2
}
