{
 "cells": [
  {
   "cell_type": "code",
   "execution_count": 252,
   "metadata": {},
   "outputs": [],
   "source": [
    "import numpy as np\n",
    "import pandas as pd\n",
    "import seaborn as sb\n",
    "from matplotlib import pyplot as plt\n",
    "%matplotlib inline  "
   ]
  },
  {
   "cell_type": "code",
   "execution_count": 253,
   "metadata": {},
   "outputs": [],
   "source": [
    "# 1. read in data with pandas\n",
    "titanic_train = pd.read_csv(\"C:\\\\Users\\\\Lillian\\\\Documents\\\\bayesian_basil_material-master\\\\titanic_train.csv\")\n",
    "titanic_train = pd.DataFrame(titanic_train)\n",
    "titanic_predict = pd.read_csv(\"C:\\\\Users\\\\Lillian\\\\Documents\\\\bayesian_basil_material-master\\\\titanic_predict.csv\")\n",
    "titanic_predict = pd.DataFrame(titanic_predict)"
   ]
  },
  {
   "cell_type": "code",
   "execution_count": 254,
   "metadata": {},
   "outputs": [
    {
     "data": {
      "text/html": [
       "<div>\n",
       "<style scoped>\n",
       "    .dataframe tbody tr th:only-of-type {\n",
       "        vertical-align: middle;\n",
       "    }\n",
       "\n",
       "    .dataframe tbody tr th {\n",
       "        vertical-align: top;\n",
       "    }\n",
       "\n",
       "    .dataframe thead th {\n",
       "        text-align: right;\n",
       "    }\n",
       "</style>\n",
       "<table border=\"1\" class=\"dataframe\">\n",
       "  <thead>\n",
       "    <tr style=\"text-align: right;\">\n",
       "      <th></th>\n",
       "      <th>PassengerId</th>\n",
       "      <th>Survived</th>\n",
       "      <th>Pclass</th>\n",
       "      <th>Name</th>\n",
       "      <th>Sex</th>\n",
       "      <th>Age</th>\n",
       "      <th>SibSp</th>\n",
       "      <th>Parch</th>\n",
       "      <th>Ticket</th>\n",
       "      <th>Fare</th>\n",
       "      <th>Cabin</th>\n",
       "      <th>Embarked</th>\n",
       "    </tr>\n",
       "  </thead>\n",
       "  <tbody>\n",
       "    <tr>\n",
       "      <th>0</th>\n",
       "      <td>1</td>\n",
       "      <td>0</td>\n",
       "      <td>3</td>\n",
       "      <td>Braund, Mr. Owen Harris</td>\n",
       "      <td>male</td>\n",
       "      <td>22.0</td>\n",
       "      <td>1</td>\n",
       "      <td>0</td>\n",
       "      <td>A/5 21171</td>\n",
       "      <td>7.2500</td>\n",
       "      <td>NaN</td>\n",
       "      <td>S</td>\n",
       "    </tr>\n",
       "    <tr>\n",
       "      <th>1</th>\n",
       "      <td>2</td>\n",
       "      <td>1</td>\n",
       "      <td>1</td>\n",
       "      <td>Cumings, Mrs. John Bradley (Florence Briggs Th...</td>\n",
       "      <td>female</td>\n",
       "      <td>38.0</td>\n",
       "      <td>1</td>\n",
       "      <td>0</td>\n",
       "      <td>PC 17599</td>\n",
       "      <td>71.2833</td>\n",
       "      <td>C85</td>\n",
       "      <td>C</td>\n",
       "    </tr>\n",
       "    <tr>\n",
       "      <th>2</th>\n",
       "      <td>3</td>\n",
       "      <td>1</td>\n",
       "      <td>3</td>\n",
       "      <td>Heikkinen, Miss. Laina</td>\n",
       "      <td>female</td>\n",
       "      <td>26.0</td>\n",
       "      <td>0</td>\n",
       "      <td>0</td>\n",
       "      <td>STON/O2. 3101282</td>\n",
       "      <td>7.9250</td>\n",
       "      <td>NaN</td>\n",
       "      <td>S</td>\n",
       "    </tr>\n",
       "    <tr>\n",
       "      <th>3</th>\n",
       "      <td>4</td>\n",
       "      <td>1</td>\n",
       "      <td>1</td>\n",
       "      <td>Futrelle, Mrs. Jacques Heath (Lily May Peel)</td>\n",
       "      <td>female</td>\n",
       "      <td>35.0</td>\n",
       "      <td>1</td>\n",
       "      <td>0</td>\n",
       "      <td>113803</td>\n",
       "      <td>53.1000</td>\n",
       "      <td>C123</td>\n",
       "      <td>S</td>\n",
       "    </tr>\n",
       "    <tr>\n",
       "      <th>4</th>\n",
       "      <td>5</td>\n",
       "      <td>0</td>\n",
       "      <td>3</td>\n",
       "      <td>Allen, Mr. William Henry</td>\n",
       "      <td>male</td>\n",
       "      <td>35.0</td>\n",
       "      <td>0</td>\n",
       "      <td>0</td>\n",
       "      <td>373450</td>\n",
       "      <td>8.0500</td>\n",
       "      <td>NaN</td>\n",
       "      <td>S</td>\n",
       "    </tr>\n",
       "  </tbody>\n",
       "</table>\n",
       "</div>"
      ],
      "text/plain": [
       "   PassengerId  Survived  Pclass  \\\n",
       "0            1         0       3   \n",
       "1            2         1       1   \n",
       "2            3         1       3   \n",
       "3            4         1       1   \n",
       "4            5         0       3   \n",
       "\n",
       "                                                Name     Sex   Age  SibSp  \\\n",
       "0                            Braund, Mr. Owen Harris    male  22.0      1   \n",
       "1  Cumings, Mrs. John Bradley (Florence Briggs Th...  female  38.0      1   \n",
       "2                             Heikkinen, Miss. Laina  female  26.0      0   \n",
       "3       Futrelle, Mrs. Jacques Heath (Lily May Peel)  female  35.0      1   \n",
       "4                           Allen, Mr. William Henry    male  35.0      0   \n",
       "\n",
       "   Parch            Ticket     Fare Cabin Embarked  \n",
       "0      0         A/5 21171   7.2500   NaN        S  \n",
       "1      0          PC 17599  71.2833   C85        C  \n",
       "2      0  STON/O2. 3101282   7.9250   NaN        S  \n",
       "3      0            113803  53.1000  C123        S  \n",
       "4      0            373450   8.0500   NaN        S  "
      ]
     },
     "execution_count": 254,
     "metadata": {},
     "output_type": "execute_result"
    }
   ],
   "source": [
    "# view data\n",
    "titanic_train.head(5)"
   ]
  },
  {
   "cell_type": "code",
   "execution_count": 255,
   "metadata": {},
   "outputs": [
    {
     "data": {
      "text/html": [
       "<div>\n",
       "<style scoped>\n",
       "    .dataframe tbody tr th:only-of-type {\n",
       "        vertical-align: middle;\n",
       "    }\n",
       "\n",
       "    .dataframe tbody tr th {\n",
       "        vertical-align: top;\n",
       "    }\n",
       "\n",
       "    .dataframe thead th {\n",
       "        text-align: right;\n",
       "    }\n",
       "</style>\n",
       "<table border=\"1\" class=\"dataframe\">\n",
       "  <thead>\n",
       "    <tr style=\"text-align: right;\">\n",
       "      <th></th>\n",
       "      <th>PassengerId</th>\n",
       "      <th>Pclass</th>\n",
       "      <th>Name</th>\n",
       "      <th>Sex</th>\n",
       "      <th>Age</th>\n",
       "      <th>SibSp</th>\n",
       "      <th>Parch</th>\n",
       "      <th>Ticket</th>\n",
       "      <th>Fare</th>\n",
       "      <th>Cabin</th>\n",
       "      <th>Embarked</th>\n",
       "    </tr>\n",
       "  </thead>\n",
       "  <tbody>\n",
       "    <tr>\n",
       "      <th>0</th>\n",
       "      <td>892</td>\n",
       "      <td>3</td>\n",
       "      <td>Kelly, Mr. James</td>\n",
       "      <td>male</td>\n",
       "      <td>34.5</td>\n",
       "      <td>0</td>\n",
       "      <td>0</td>\n",
       "      <td>330911</td>\n",
       "      <td>7.8292</td>\n",
       "      <td>NaN</td>\n",
       "      <td>Q</td>\n",
       "    </tr>\n",
       "    <tr>\n",
       "      <th>1</th>\n",
       "      <td>893</td>\n",
       "      <td>3</td>\n",
       "      <td>Wilkes, Mrs. James (Ellen Needs)</td>\n",
       "      <td>female</td>\n",
       "      <td>47.0</td>\n",
       "      <td>1</td>\n",
       "      <td>0</td>\n",
       "      <td>363272</td>\n",
       "      <td>7.0000</td>\n",
       "      <td>NaN</td>\n",
       "      <td>S</td>\n",
       "    </tr>\n",
       "    <tr>\n",
       "      <th>2</th>\n",
       "      <td>894</td>\n",
       "      <td>2</td>\n",
       "      <td>Myles, Mr. Thomas Francis</td>\n",
       "      <td>male</td>\n",
       "      <td>62.0</td>\n",
       "      <td>0</td>\n",
       "      <td>0</td>\n",
       "      <td>240276</td>\n",
       "      <td>9.6875</td>\n",
       "      <td>NaN</td>\n",
       "      <td>Q</td>\n",
       "    </tr>\n",
       "    <tr>\n",
       "      <th>3</th>\n",
       "      <td>895</td>\n",
       "      <td>3</td>\n",
       "      <td>Wirz, Mr. Albert</td>\n",
       "      <td>male</td>\n",
       "      <td>27.0</td>\n",
       "      <td>0</td>\n",
       "      <td>0</td>\n",
       "      <td>315154</td>\n",
       "      <td>8.6625</td>\n",
       "      <td>NaN</td>\n",
       "      <td>S</td>\n",
       "    </tr>\n",
       "    <tr>\n",
       "      <th>4</th>\n",
       "      <td>896</td>\n",
       "      <td>3</td>\n",
       "      <td>Hirvonen, Mrs. Alexander (Helga E Lindqvist)</td>\n",
       "      <td>female</td>\n",
       "      <td>22.0</td>\n",
       "      <td>1</td>\n",
       "      <td>1</td>\n",
       "      <td>3101298</td>\n",
       "      <td>12.2875</td>\n",
       "      <td>NaN</td>\n",
       "      <td>S</td>\n",
       "    </tr>\n",
       "  </tbody>\n",
       "</table>\n",
       "</div>"
      ],
      "text/plain": [
       "   PassengerId  Pclass                                          Name     Sex  \\\n",
       "0          892       3                              Kelly, Mr. James    male   \n",
       "1          893       3              Wilkes, Mrs. James (Ellen Needs)  female   \n",
       "2          894       2                     Myles, Mr. Thomas Francis    male   \n",
       "3          895       3                              Wirz, Mr. Albert    male   \n",
       "4          896       3  Hirvonen, Mrs. Alexander (Helga E Lindqvist)  female   \n",
       "\n",
       "    Age  SibSp  Parch   Ticket     Fare Cabin Embarked  \n",
       "0  34.5      0      0   330911   7.8292   NaN        Q  \n",
       "1  47.0      1      0   363272   7.0000   NaN        S  \n",
       "2  62.0      0      0   240276   9.6875   NaN        Q  \n",
       "3  27.0      0      0   315154   8.6625   NaN        S  \n",
       "4  22.0      1      1  3101298  12.2875   NaN        S  "
      ]
     },
     "execution_count": 255,
     "metadata": {},
     "output_type": "execute_result"
    }
   ],
   "source": [
    "titanic_predict.head(5)"
   ]
  },
  {
   "cell_type": "code",
   "execution_count": 256,
   "metadata": {},
   "outputs": [
    {
     "name": "stdout",
     "output_type": "stream",
     "text": [
      "          PassengerId  Pclass   Age  SibSp  Parch  Fare\n",
      "Survived                                               \n",
      "0               455.0     3.0  28.0    0.0    0.0  10.5\n",
      "1               439.5     2.0  28.0    0.0    0.0  26.0\n",
      "        PassengerId  Survived   Age  SibSp  Parch     Fare\n",
      "Pclass                                                    \n",
      "1             472.0       1.0  37.0    0.0    0.0  60.2875\n",
      "2             435.5       0.0  29.0    0.0    0.0  14.2500\n",
      "3             432.0       0.0  24.0    0.0    0.0   8.0500\n"
     ]
    }
   ],
   "source": [
    "print(titanic_train.groupby('Survived').median())\n",
    "print(titanic_train.groupby('Pclass').median())"
   ]
  },
  {
   "cell_type": "code",
   "execution_count": 257,
   "metadata": {},
   "outputs": [
    {
     "data": {
      "text/plain": [
       "Series([], Name: PassengerId, dtype: int64)"
      ]
     },
     "execution_count": 257,
     "metadata": {},
     "output_type": "execute_result"
    }
   ],
   "source": [
    "# 2. Clean data\n",
    "# check for duplicates\n",
    "a = titanic_train[\"PassengerId\"].value_counts()\n",
    "a[a > 1]"
   ]
  },
  {
   "cell_type": "code",
   "execution_count": 258,
   "metadata": {},
   "outputs": [
    {
     "data": {
      "text/plain": [
       "PassengerId      0\n",
       "Survived         0\n",
       "Pclass           0\n",
       "Name             0\n",
       "Sex              0\n",
       "Age            177\n",
       "SibSp            0\n",
       "Parch            0\n",
       "Ticket           0\n",
       "Fare             0\n",
       "Cabin          687\n",
       "Embarked         2\n",
       "dtype: int64"
      ]
     },
     "execution_count": 258,
     "metadata": {},
     "output_type": "execute_result"
    }
   ],
   "source": [
    "# check for missing values\n",
    "titanic_train.isnull().sum()  #missing age, cabin, and embarked data for some passengers."
   ]
  },
  {
   "cell_type": "code",
   "execution_count": 259,
   "metadata": {},
   "outputs": [
    {
     "data": {
      "text/plain": [
       "PassengerId      0\n",
       "Pclass           0\n",
       "Name             0\n",
       "Sex              0\n",
       "Age             86\n",
       "SibSp            0\n",
       "Parch            0\n",
       "Ticket           0\n",
       "Fare             1\n",
       "Cabin          327\n",
       "Embarked         0\n",
       "dtype: int64"
      ]
     },
     "execution_count": 259,
     "metadata": {},
     "output_type": "execute_result"
    }
   ],
   "source": [
    "titanic_predict.isnull().sum()"
   ]
  },
  {
   "cell_type": "code",
   "execution_count": 260,
   "metadata": {},
   "outputs": [],
   "source": [
    "# remove Cabin from the df, since it's mostly NaNs\n",
    "# remove Name, PassengerId, and Ticket because these are discrete values that offer no predictive power\n",
    "titanic_train = titanic_train.drop(['Cabin', 'Name', 'PassengerId', 'Ticket'], 1)\n",
    "titanic_predict = titanic_predict.drop(['Cabin', 'Name', 'PassengerId', 'Ticket'], 1)"
   ]
  },
  {
   "cell_type": "code",
   "execution_count": 261,
   "metadata": {},
   "outputs": [],
   "source": [
    "# remove the entries in train where Embarked is null\n",
    "titanic_train = titanic_train[titanic_train.Embarked.notnull()]"
   ]
  },
  {
   "cell_type": "code",
   "execution_count": 262,
   "metadata": {},
   "outputs": [],
   "source": [
    "# replace missing values in age with median age for male/female per Pclass in train and predict datasets\n",
    "m1 = titanic_train.loc[(titanic_train['Sex'] == 'male') & (titanic_train['Pclass'] == 1), 'Age'].median() \n",
    "m2 = titanic_train.loc[(titanic_train['Sex'] == 'male') & (titanic_train['Pclass'] == 2), 'Age'].median()\n",
    "m3 = titanic_train.loc[(titanic_train['Sex'] == 'male') & (titanic_train['Pclass'] == 3), 'Age'].median()\n",
    "\n",
    "f1 = titanic_train.loc[(titanic_train['Sex'] == 'female') & (titanic_train['Pclass'] == 1), 'Age'].median()\n",
    "f2 = titanic_train.loc[(titanic_train['Sex'] == 'female') & (titanic_train['Pclass'] == 2), 'Age'].median()\n",
    "f3 = titanic_train.loc[(titanic_train['Sex'] == 'female') & (titanic_train['Pclass'] == 3), 'Age'].median()\n",
    "\n",
    "titanic_train.loc[(titanic_train['Sex'] == 'male') & (titanic_train['Age'].isnull()) & (titanic_train['Pclass'] == 1), 'Age'] = m1 \n",
    "titanic_train.loc[(titanic_train['Sex'] == 'male') & (titanic_train['Age'].isnull()) & (titanic_train['Pclass'] == 2), 'Age'] = m2 \n",
    "titanic_train.loc[(titanic_train['Sex'] == 'male') & (titanic_train['Age'].isnull()) & (titanic_train['Pclass'] == 3), 'Age'] = m3 \n",
    "\n",
    "titanic_train.loc[(titanic_train['Sex'] == 'female') & (titanic_train['Age'].isnull()) & (titanic_train['Pclass'] == 1), 'Age'] = f1 \n",
    "titanic_train.loc[(titanic_train['Sex'] == 'female') & (titanic_train['Age'].isnull()) & (titanic_train['Pclass'] == 2), 'Age'] = f2 \n",
    "titanic_train.loc[(titanic_train['Sex'] == 'female') & (titanic_train['Age'].isnull()) & (titanic_train['Pclass'] == 3), 'Age'] = f3 \n",
    "\n",
    "titanic_predict.loc[(titanic_predict['Sex'] == 'male') & (titanic_predict['Age'].isnull()) & (titanic_predict['Pclass'] == 1), 'Age'] = m1 \n",
    "titanic_predict.loc[(titanic_predict['Sex'] == 'male') & (titanic_predict['Age'].isnull()) & (titanic_predict['Pclass'] == 2), 'Age'] = m2 \n",
    "titanic_predict.loc[(titanic_predict['Sex'] == 'male') & (titanic_predict['Age'].isnull()) & (titanic_predict['Pclass'] == 3), 'Age'] = m3 \n",
    "\n",
    "titanic_predict.loc[(titanic_predict['Sex'] == 'female') & (titanic_predict['Age'].isnull()) & (titanic_predict['Pclass'] == 1), 'Age'] = f1 \n",
    "titanic_predict.loc[(titanic_predict['Sex'] == 'female') & (titanic_predict['Age'].isnull()) & (titanic_predict['Pclass'] == 2), 'Age'] = f2 \n",
    "titanic_predict.loc[(titanic_predict['Sex'] == 'female') & (titanic_predict['Age'].isnull()) & (titanic_predict['Pclass'] == 3), 'Age'] = f3 "
   ]
  },
  {
   "cell_type": "code",
   "execution_count": 263,
   "metadata": {},
   "outputs": [],
   "source": [
    "# replace missing value in 'Fare' in predict set with mean fare based on Pclass, Embarked from train set\n",
    "missing_fare = titanic_train.loc[(titanic_train['Pclass'] == 3) & (titanic_train['Embarked'] == 'S') , 'Fare'].mean() \n",
    "titanic_predict.loc[titanic_predict['Fare'].isnull()] = missing_fare"
   ]
  },
  {
   "cell_type": "code",
   "execution_count": 264,
   "metadata": {},
   "outputs": [
    {
     "data": {
      "text/plain": [
       "(array([0, 1]), <a list of 2 Text xticklabel objects>)"
      ]
     },
     "execution_count": 264,
     "metadata": {},
     "output_type": "execute_result"
    },
    {
     "data": {
      "image/png": "[encoded data removed]",
      "text/plain": [
       "<Figure size 432x288 with 1 Axes>"
      ]
     },
     "metadata": {},
     "output_type": "display_data"
    }
   ],
   "source": [
    "# 3. visualise data\n",
    "# create bar chart - percent male/female\n",
    "titanic_plot1 = titanic_train['Sex'].value_counts()\n",
    "titanic_plot1 = titanic_plot1/titanic_train.shape[0]\n",
    "titanic_plot1.plot.bar()\n",
    "plt.legend()\n",
    "plt.xticks(rotation=0)"
   ]
  },
  {
   "cell_type": "code",
   "execution_count": 265,
   "metadata": {},
   "outputs": [
    {
     "name": "stderr",
     "output_type": "stream",
     "text": [
      "c:\\python\\python36\\lib\\site-packages\\ipykernel_launcher.py:8: SettingWithCopyWarning: \n",
      "A value is trying to be set on a copy of a slice from a DataFrame.\n",
      "Try using .loc[row_indexer,col_indexer] = value instead\n",
      "\n",
      "See the caveats in the documentation: http://pandas.pydata.org/pandas-docs/stable/indexing.html#indexing-view-versus-copy\n",
      "  \n",
      "c:\\python\\python36\\lib\\site-packages\\pandas\\core\\indexing.py:543: SettingWithCopyWarning: \n",
      "A value is trying to be set on a copy of a slice from a DataFrame.\n",
      "Try using .loc[row_indexer,col_indexer] = value instead\n",
      "\n",
      "See the caveats in the documentation: http://pandas.pydata.org/pandas-docs/stable/indexing.html#indexing-view-versus-copy\n",
      "  self.obj[item] = s\n"
     ]
    },
    {
     "data": {
      "text/plain": [
       "<matplotlib.axes._subplots.AxesSubplot at 0x245c2eb8>"
      ]
     },
     "execution_count": 265,
     "metadata": {},
     "output_type": "execute_result"
    },
    {
     "data": {
      "image/png": "[encoded data removed]",
      "text/plain": [
       "<Figure size 1080x360 with 2 Axes>"
      ]
     },
     "metadata": {},
     "output_type": "display_data"
    },
    {
     "data": {
      "image/png": "[encoded data removed]",
      "text/plain": [
       "<Figure size 432x288 with 1 Axes>"
      ]
     },
     "metadata": {},
     "output_type": "display_data"
    }
   ],
   "source": [
    "# create bar chart - percent of each class, gender, and age group that survived\n",
    "\n",
    "surv = titanic_train[titanic_train['Survived']==1]\n",
    "Pclass_surv = surv['Pclass'].value_counts()\n",
    "Pclass_surv = Pclass_surv/surv.shape[0]\n",
    "# add bars with percent of total (not just survived)\n",
    "# Pclass_all = titanic_train[]\n",
    "Gender_surv = surv['Sex'].value_counts()\n",
    "Gender_surv = Gender_surv/surv.shape[0]\n",
    "surv['Age_Group'] = \"\"\n",
    "surv.loc[surv['Age'] < 10, 'Age_Group'] = '0-9'\n",
    "surv.loc[(surv['Age'] >= 10) & (surv['Age'] < 20), 'Age_Group'] = '10-19'\n",
    "surv.loc[(surv['Age'] >= 20) & (surv['Age'] < 30), 'Age_Group'] = '20-29'\n",
    "surv.loc[(surv['Age'] >= 30) & (surv['Age'] < 40), 'Age_Group'] = '30-39'\n",
    "surv.loc[(surv['Age'] >= 40) & (surv['Age'] < 50), 'Age_Group'] = '40-49'\n",
    "surv.loc[(surv['Age'] >= 50) & (surv['Age'] < 60), 'Age_Group'] = '50-59'\n",
    "surv.loc[(surv['Age'] >= 60) & (surv['Age'] < 70), 'Age_Group'] = '60-69'\n",
    "surv.loc[(surv['Age'] >= 70) & (surv['Age'] < 80), 'Age_Group'] = '70-79'\n",
    "surv.loc[(surv['Age'] >= 80) & (surv['Age'] < 90), 'Age_Group'] = '80-89'\n",
    "Age_group_surv = pd.DataFrame(surv['Age_Group'].value_counts())\n",
    "Age_group_surv = Age_group_surv/surv.shape[0]\n",
    "ages = ['0-9', '10-19', '20-29', '30-39', '40-49', '50-59', '60-69', '70-79', '80-89']\n",
    "Age_group_surv['ages'] = Age_group_surv.index\n",
    "\n",
    "plt.subplots(1,2,figsize=(15,5)) #rows, cols\n",
    "\n",
    "plt.subplot(121)\n",
    "Pclass_surv.plot.bar()\n",
    "plt.legend()\n",
    "#plt.set_title(\"Percent Survived per Class\")\n",
    "\n",
    "plt.subplot(122)\n",
    "Gender_surv.plot.bar()\n",
    "plt.legend()\n",
    "#plt.set_title(\"Percent Survived per Gender\")\n",
    "\n",
    "Age_group_surv.sort_values(by = 'ages').plot.bar()\n"
   ]
  },
  {
   "cell_type": "code",
   "execution_count": 266,
   "metadata": {},
   "outputs": [
    {
     "data": {
      "text/plain": [
       "<matplotlib.axes._subplots.AxesSubplot at 0x2467c7f0>"
      ]
     },
     "execution_count": 266,
     "metadata": {},
     "output_type": "execute_result"
    },
    {
     "data": {
      "image/png": "[encoded data removed]",
      "text/plain": [
       "<Figure size 1080x360 with 2 Axes>"
      ]
     },
     "metadata": {},
     "output_type": "display_data"
    }
   ],
   "source": [
    "# histogram - age of passengers\n",
    "plt.subplots(1,2,figsize=(15,5)) #rows, cols\n",
    "\n",
    "plt.subplot(121)\n",
    "titanic_train['Age'].plot.hist(stacked=False, bins = 40, color = \"green\")\n",
    "\n",
    "plt.subplot(122)\n",
    "titanic_train['Fare'].plot.hist(stacked=False, bins = 30, color = \"orange\")"
   ]
  },
  {
   "cell_type": "code",
   "execution_count": 267,
   "metadata": {},
   "outputs": [
    {
     "data": {
      "text/plain": [
       "<seaborn.axisgrid.FacetGrid at 0x2469a0b8>"
      ]
     },
     "execution_count": 267,
     "metadata": {},
     "output_type": "execute_result"
    },
    {
     "data": {
      "image/png": "[encoded data removed]",
      "text/plain": [
       "<Figure size 648x432 with 6 Axes>"
      ]
     },
     "metadata": {},
     "output_type": "display_data"
    }
   ],
   "source": [
    "a = sb.FacetGrid(titanic_train, row = 'Survived', col = 'Pclass')\n",
    "a.map(sb.distplot, \"Age\")"
   ]
  },
  {
   "cell_type": "code",
   "execution_count": 268,
   "metadata": {},
   "outputs": [
    {
     "data": {
      "text/plain": [
       "Survived      int64\n",
       "Pclass        int64\n",
       "Sex          object\n",
       "Age         float64\n",
       "SibSp         int64\n",
       "Parch         int64\n",
       "Fare        float64\n",
       "Embarked     object\n",
       "dtype: object"
      ]
     },
     "execution_count": 268,
     "metadata": {},
     "output_type": "execute_result"
    }
   ],
   "source": [
    "# check the types of each column and get rid of all strings\n",
    "titanic_train.dtypes"
   ]
  },
  {
   "cell_type": "code",
   "execution_count": 269,
   "metadata": {},
   "outputs": [
    {
     "data": {
      "text/plain": [
       "Pclass      float64\n",
       "Sex          object\n",
       "Age         float64\n",
       "SibSp       float64\n",
       "Parch       float64\n",
       "Fare        float64\n",
       "Embarked     object\n",
       "dtype: object"
      ]
     },
     "execution_count": 269,
     "metadata": {},
     "output_type": "execute_result"
    }
   ],
   "source": [
    "titanic_predict.dtypes"
   ]
  },
  {
   "cell_type": "code",
   "execution_count": 270,
   "metadata": {},
   "outputs": [],
   "source": [
    "titanic_train['Age'] = titanic_train['Age'].astype('int64')\n",
    "titanic_predict['Pclass'] = titanic_predict['Pclass'].astype('int64')\n",
    "titanic_predict['Age'] = titanic_predict['Age'].astype('int64')\n",
    "titanic_predict['SibSp'] = titanic_predict['SibSp'].astype('int64')\n",
    "titanic_predict['Parch'] = titanic_predict['Parch'].astype('int64')"
   ]
  },
  {
   "cell_type": "code",
   "execution_count": 272,
   "metadata": {},
   "outputs": [],
   "source": [
    "titanic_train.to_csv(\"C:\\\\Users\\\\Lillian\\\\Documents\\\\bayesian_basil_material-master\\\\titanic_train_clean.csv\", sep = ',', index = False)\n",
    "titanic_predict.to_csv(\"C:\\\\Users\\\\Lillian\\\\Documents\\\\bayesian_basil_material-master\\\\titanic_predict_clean.csv\", sep = ',', index = False)"
   ]
  },
  {
   "cell_type": "code",
   "execution_count": null,
   "metadata": {},
   "outputs": [],
   "source": []
  }
 ],
 "metadata": {
  "kernelspec": {
   "display_name": "Python 3",
   "language": "python",
   "name": "python3"
  },
  "language_info": {
   "codemirror_mode": {
    "name": "ipython",
    "version": 3
   },
   "file_extension": ".py",
   "mimetype": "text/x-python",
   "name": "python",
   "nbconvert_exporter": "python",
   "pygments_lexer": "ipython3",
   "version": "3.6.5"
  }
 },
 "nbformat": 4,
 "nbformat_minor": 2
}
